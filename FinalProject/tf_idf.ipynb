{
 "cells": [
  {
   "cell_type": "code",
   "execution_count": 1,
   "metadata": {},
   "outputs": [],
   "source": [
    "import os\n",
    "import pandas as pd\n",
    "import networkx as nx\n",
    "import matplotlib.pyplot as plt\n",
    "import matplotlib.patches as mpatches\n",
    "import seaborn as sns\n",
    "from collections import Counter, defaultdict\n",
    "import community.community_louvain as community_louvain\n",
    "import numpy as np\n",
    "import re"
   ]
  },
  {
   "cell_type": "code",
   "execution_count": 8,
   "metadata": {},
   "outputs": [],
   "source": [
    "dir_path = \"C:/Users/nerea/Documents/MasterDTU/SocialGraphs_fall24/Projects/socialGraphs_fall24/FinalProject/net_movies_info\"\n",
    "csv = \"C:/Users/nerea/Documents/MasterDTU/SocialGraphs_fall24/Projects/socialGraphs_fall24/FinalProject/csv/unified_dictionary_percent.csv\"\n",
    "df = pd.read_csv(csv)"
   ]
  },
  {
   "cell_type": "code",
   "execution_count": 9,
   "metadata": {},
   "outputs": [
    {
     "name": "stderr",
     "output_type": "stream",
     "text": [
      "C:\\Users\\nerea\\AppData\\Local\\Temp\\ipykernel_16528\\1933202204.py:12: FutureWarning: Series.__getitem__ treating keys as positions is deprecated. In a future version, integer keys will always be treated as labels (consistent with DataFrame behavior). To access a value by position, use `ser.iloc[pos]`\n",
      "  word = row[0]  # Primera columna es la palabra clave\n"
     ]
    }
   ],
   "source": [
    "import pandas as pd\n",
    "from sklearn.feature_extraction.text import TfidfVectorizer\n",
    "\n",
    "# Leer el CSV\n",
    "# df = pd.read_csv(\"path_to_your_file.csv\")\n",
    "\n",
    "# Crear un diccionario para almacenar las palabras por género\n",
    "genre_keywords = {genre: [] for genre in df.columns[1:]}  # Ignoramos la primera columna de palabras\n",
    "\n",
    "# Clasificar las palabras por género\n",
    "for _, row in df.iterrows():\n",
    "    word = row[0]  # Primera columna es la palabra clave\n",
    "    for genre, value in row[1:].items():  # Iteramos sobre los géneros\n",
    "        if value >= 1.0:\n",
    "            genre_keywords[genre].append(word)\n",
    "\n",
    "# Ahora calculamos el TF-IDF para cada lista de palabras por género\n",
    "tfidf_results = {}\n",
    "\n",
    "for genre, words in genre_keywords.items():\n",
    "    # Crear un TF-IDF vectorizer y calcular el TF-IDF\n",
    "    vectorizer = TfidfVectorizer()\n",
    "    tfidf_matrix = vectorizer.fit_transform([' '.join(words)])  # Unimos las palabras en una sola cadena\n",
    "    tfidf_results[genre] = dict(zip(vectorizer.get_feature_names_out(), tfidf_matrix.toarray()[0]))\n",
    "\n",
    "# Mostrar los resultados (TF-IDF para cada palabra en cada género)\n",
    "# for genre, tfidf_scores in tfidf_results.items():\n",
    "#     print(f\"TF-IDF scores for {genre}:\")\n",
    "#     for word, score in sorted(tfidf_scores.items(), key=lambda x: x[1], reverse=True):\n",
    "#         print(f\"{word}: {score}\")\n"
   ]
  },
  {
   "cell_type": "code",
   "execution_count": 10,
   "metadata": {},
   "outputs": [],
   "source": [
    "def extract_synopsis(file_path):\n",
    "    with open(file_path, 'r', encoding='utf-8') as file:\n",
    "        content = file.read()\n",
    "\n",
    "    # Use a regular expression to extract the synopsis (assuming it's between \"Synopsis:\" and \"]\")\n",
    "    match = re.search(r'Synopsis:\\s*\\[(.*?)\\]', content, re.DOTALL)\n",
    "    if match:\n",
    "        synopsis = match.group(1)\n",
    "        return synopsis\n",
    "    else:\n",
    "        return \"\"\n",
    "\n",
    "# Get a list of all files in the directory\n",
    "files = os.listdir(dir_path)\n",
    "\n",
    "# Extract synopses from each file\n",
    "synopses = {}\n",
    "for file in files:\n",
    "    file_path = os.path.join(dir_path, file)\n",
    "    if os.path.isfile(file_path):\n",
    "        synopsis = extract_synopsis(file_path)\n",
    "        # You can associate the synopsis with the movie name, here we use the file name as the movie name\n",
    "        movie_name = os.path.splitext(file)[0]\n",
    "        synopses[movie_name] = synopsis\n",
    "\n",
    "def clean_text(text):\n",
    "    text = text.lower()  # Convert to lowercase\n",
    "    text = re.sub(r'[^\\w\\s]', '', text)  # Remove punctuation\n",
    "    return text\n",
    "\n",
    "# Clean all synopses\n",
    "for movie, synopsis in synopses.items():\n",
    "    synopses[movie] = clean_text(synopsis)"
   ]
  },
  {
   "cell_type": "code",
   "execution_count": 11,
   "metadata": {},
   "outputs": [],
   "source": [
    "from collections import Counter\n",
    "\n",
    "def calculate_genre_percentages(synopsis, keyword_genre_mapping, tfidf_scores):\n",
    "    # Clean the synopsis and split into words\n",
    "    cleaned_synopsis = clean_text(synopsis)\n",
    "    words = cleaned_synopsis.split()  # All words in the synopsis (not unique)\n",
    "    \n",
    "    genre_contributions = Counter()  # To store the weighted genre contributions\n",
    "    total_keywords = 0  # To store the total number of genre-related keywords found\n",
    "    genre_percentages = []\n",
    "\n",
    "    # For each word in the synopsis\n",
    "    for word in words:\n",
    "        if word in keyword_genre_mapping:  # If the word is in the mapping\n",
    "            for genre in keyword_genre_mapping[word]:\n",
    "                if word in tfidf_scores[genre]:  # Check if the word has a TF-IDF score for that genre\n",
    "                    genre_contributions[genre] += tfidf_scores[genre].get(word, 0)  # Add TF-IDF score\n",
    "\n",
    "    # Generate percentages\n",
    "    total_contribution = sum(genre_contributions.values())\n",
    "    if total_contribution > 0:  # To avoid division by zero\n",
    "        for genre, contribution in genre_contributions.items():\n",
    "            genre_percentages.append((genre, (contribution / total_contribution) * 100))\n",
    "\n",
    "    return genre_percentages\n"
   ]
  },
  {
   "cell_type": "code",
   "execution_count": 13,
   "metadata": {},
   "outputs": [],
   "source": [
    "keyword_genre_mapping = df.set_index('Keyword').to_dict(orient='index')\n",
    "\n",
    "movie_genre_percentages = {}\n",
    "\n",
    "for movie_name, synopsis in synopses.items():\n",
    "    genre_percentages = calculate_genre_percentages(synopsis, keyword_genre_mapping, tfidf_results)\n",
    "    movie_genre_percentages[movie_name] = genre_percentages"
   ]
  },
  {
   "cell_type": "code",
   "execution_count": 14,
   "metadata": {},
   "outputs": [],
   "source": [
    "def save_csv_percentages(movie_genre_percentages, output_file):\n",
    "    data = []\n",
    "    for movie_name, genre_percentages in movie_genre_percentages.items():\n",
    "        # Sort genres by percentage in descending order\n",
    "        sorted_genres = sorted(genre_percentages, key=lambda x: x[1], reverse=True)\n",
    "        \n",
    "        # Prepare data for saving\n",
    "        data.append({\n",
    "            \"Movie\": movie_name,\n",
    "            \"Top Genre\": sorted_genres[0][0] if sorted_genres else None,  # Highest percentage genre\n",
    "            \"Top Percentage\": sorted_genres[0][1] if sorted_genres else 0,  # Highest percentage\n",
    "            \"All Genres\": \", \".join([f\"{genre}: {percentage:.2f}%\" for genre, percentage in sorted_genres])  # Full list\n",
    "        })\n",
    "    \n",
    "    # Convert to DataFrame and save\n",
    "    result_df = pd.DataFrame(data)\n",
    "    result_df.to_csv(output_file, index=False)\n",
    "    print(f\"Genre percentages saved to {output_file}\")"
   ]
  },
  {
   "cell_type": "code",
   "execution_count": 15,
   "metadata": {},
   "outputs": [
    {
     "name": "stdout",
     "output_type": "stream",
     "text": [
      "Genre percentages saved to movie_genre_tfIDF_top_prueba.csv\n"
     ]
    }
   ],
   "source": [
    "output_file = \"movie_genre_tfIDF_top_prueba.csv\"\n",
    "save_csv_percentages(movie_genre_percentages, output_file)"
   ]
  },
  {
   "cell_type": "markdown",
   "metadata": {},
   "source": [
    "Bottom Movies"
   ]
  },
  {
   "cell_type": "code",
   "execution_count": 19,
   "metadata": {},
   "outputs": [
    {
     "name": "stderr",
     "output_type": "stream",
     "text": [
      "C:\\Users\\nerea\\AppData\\Local\\Temp\\ipykernel_16528\\599209862.py:13: FutureWarning: Series.__getitem__ treating keys as positions is deprecated. In a future version, integer keys will always be treated as labels (consistent with DataFrame behavior). To access a value by position, use `ser.iloc[pos]`\n",
      "  word = row[0]  # Primera columna es la palabra clave\n"
     ]
    },
    {
     "name": "stdout",
     "output_type": "stream",
     "text": [
      "Genre percentages saved to movie_genre_tfIDF_bottom_prueba.csv\n"
     ]
    }
   ],
   "source": [
    "dir_path = \"C:/Users/nerea/Documents/MasterDTU/SocialGraphs_fall24/Projects/socialGraphs_fall24/FinalProject/bottom_net_movies_info\"\n",
    "csv = \"C:/Users/nerea/Documents/MasterDTU/SocialGraphs_fall24/Projects/socialGraphs_fall24/FinalProject/csv/unified_dictionary_percent.csv\"\n",
    "df = pd.read_csv(csv)\n",
    "\n",
    "# Get a list of all files in the directory\n",
    "files = os.listdir(dir_path)\n",
    "\n",
    "# Crear un diccionario para almacenar las palabras por género\n",
    "genre_keywords = {genre: [] for genre in df.columns[1:]}  # Ignoramos la primera columna de palabras\n",
    "\n",
    "# Clasificar las palabras por género\n",
    "for _, row in df.iterrows():\n",
    "    word = row[0]  # Primera columna es la palabra clave\n",
    "    for genre, value in row[1:].items():  # Iteramos sobre los géneros\n",
    "        if value >= 1.0:\n",
    "            genre_keywords[genre].append(word)\n",
    "\n",
    "# Ahora calculamos el TF-IDF para cada lista de palabras por género\n",
    "tfidf_results = {}\n",
    "\n",
    "for genre, words in genre_keywords.items():\n",
    "    # Crear un TF-IDF vectorizer y calcular el TF-IDF\n",
    "    vectorizer = TfidfVectorizer()\n",
    "    tfidf_matrix = vectorizer.fit_transform([' '.join(words)])  # Unimos las palabras en una sola cadena\n",
    "    tfidf_results[genre] = dict(zip(vectorizer.get_feature_names_out(), tfidf_matrix.toarray()[0]))\n",
    "\n",
    "# Extract synopses from each file\n",
    "synopses = {}\n",
    "for file in files:\n",
    "    file_path = os.path.join(dir_path, file)\n",
    "    if os.path.isfile(file_path):\n",
    "        synopsis = extract_synopsis(file_path)\n",
    "        # You can associate the synopsis with the movie name, here we use the file name as the movie name\n",
    "        movie_name = os.path.splitext(file)[0]\n",
    "        synopses[movie_name] = synopsis\n",
    "\n",
    "def clean_text(text):\n",
    "    text = text.lower()  # Convert to lowercase\n",
    "    text = re.sub(r'[^\\w\\s]', '', text)  # Remove punctuation\n",
    "    return text\n",
    "\n",
    "# Clean all synopses\n",
    "for movie, synopsis in synopses.items():\n",
    "    synopses[movie] = clean_text(synopsis)\n",
    "\n",
    "# Convert the DataFrame into a dictionary for quick lookups\n",
    "keyword_genre_mapping = df.set_index('Keyword').to_dict(orient='index')\n",
    "\n",
    "movie_genre_percentages = {}\n",
    "\n",
    "for movie_name, synopsis in synopses.items():\n",
    "    genre_percentages = calculate_genre_percentages(synopsis, keyword_genre_mapping, tfidf_results)\n",
    "    movie_genre_percentages[movie_name] = genre_percentages\n",
    "\n",
    "output_file = \"movie_genre_tfIDF_bottom_prueba.csv\"\n",
    "save_csv_percentages(movie_genre_percentages, output_file)"
   ]
  }
 ],
 "metadata": {
  "kernelspec": {
   "display_name": "graphs_env",
   "language": "python",
   "name": "python3"
  },
  "language_info": {
   "codemirror_mode": {
    "name": "ipython",
    "version": 3
   },
   "file_extension": ".py",
   "mimetype": "text/x-python",
   "name": "python",
   "nbconvert_exporter": "python",
   "pygments_lexer": "ipython3",
   "version": "3.11.10"
  }
 },
 "nbformat": 4,
 "nbformat_minor": 2
}
