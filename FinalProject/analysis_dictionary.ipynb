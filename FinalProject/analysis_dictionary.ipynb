{
 "cells": [
  {
   "cell_type": "code",
   "execution_count": 2,
   "metadata": {},
   "outputs": [],
   "source": [
    "import os\n",
    "import pandas as pd\n",
    "import networkx as nx\n",
    "import matplotlib.pyplot as plt\n",
    "import matplotlib.patches as mpatches\n",
    "import seaborn as sns\n",
    "from collections import Counter, defaultdict\n",
    "import community.community_louvain as community_louvain\n",
    "import numpy as np\n",
    "import re"
   ]
  },
  {
   "cell_type": "code",
   "execution_count": 3,
   "metadata": {},
   "outputs": [],
   "source": [
    "dir_path = \"C:/Users/nerea/Documents/MasterDTU/SocialGraphs_fall24/Projects/socialGraphs_fall24/net_movies_info/net_movies_info\"\n",
    "csv = \"C:/Users/nerea/Documents/MasterDTU/SocialGraphs_fall24/Projects/socialGraphs_fall24/FinalProject/csv/unified_dictionary_percent.csv\"\n",
    "df = pd.read_csv(csv)"
   ]
  },
  {
   "cell_type": "code",
   "execution_count": 4,
   "metadata": {},
   "outputs": [],
   "source": [
    "def extract_synopsis(file_path):\n",
    "    with open(file_path, 'r', encoding='utf-8') as file:\n",
    "        content = file.read()\n",
    "\n",
    "    # Use a regular expression to extract the synopsis (assuming it's between \"Synopsis:\" and \"]\")\n",
    "    match = re.search(r'Synopsis:\\s*\\[(.*?)\\]', content, re.DOTALL)\n",
    "    if match:\n",
    "        synopsis = match.group(1)\n",
    "        return synopsis\n",
    "    else:\n",
    "        return \"\"\n",
    "\n",
    "# Get a list of all files in the directory\n",
    "files = os.listdir(dir_path)\n",
    "\n",
    "# Extract synopses from each file\n",
    "synopses = {}\n",
    "for file in files:\n",
    "    file_path = os.path.join(dir_path, file)\n",
    "    if os.path.isfile(file_path):\n",
    "        synopsis = extract_synopsis(file_path)\n",
    "        # You can associate the synopsis with the movie name, here we use the file name as the movie name\n",
    "        movie_name = os.path.splitext(file)[0]\n",
    "        synopses[movie_name] = synopsis\n",
    "\n",
    "def clean_text(text):\n",
    "    text = text.lower()  # Convert to lowercase\n",
    "    text = re.sub(r'[^\\w\\s]', '', text)  # Remove punctuation\n",
    "    return text\n",
    "\n",
    "# Clean all synopses\n",
    "for movie, synopsis in synopses.items():\n",
    "    synopses[movie] = clean_text(synopsis)"
   ]
  },
  {
   "cell_type": "code",
   "execution_count": 5,
   "metadata": {},
   "outputs": [],
   "source": [
    "def calculate_genre_percentages(synopses, keyword_genre_mapping):\n",
    "    # Clean the synopsis and split into words\n",
    "    cleaned_synopsis = clean_text(synopsis)\n",
    "    words = cleaned_synopsis.split()  # All words in the synopsis (not unique)\n",
    "    #words = set(cleaned_synopsis.split())  # Unique words in the synopsis\n",
    "    \n",
    "    genre_counts = Counter()  # To store genre counts\n",
    "    total_keywords = 0  # To store the total number of genre-related keywords found\n",
    "    genre_percentages = []\n",
    "    # For each word in the synopsis\n",
    "    for word in words:\n",
    "        if word in keyword_genre_mapping:  # If the word is in the mapping\n",
    "            for genre, value in keyword_genre_mapping[word].items():\n",
    "                genre_counts[genre] += value  # Add the genre contribution\n",
    "\n",
    "    # generate percentages\n",
    "    total = sum(genre_counts.values())\n",
    "    for genre, count in genre_counts.items():\n",
    "        genre_percentages.append((genre, (count/total)*100))\n",
    "        \n",
    "    return genre_percentages"
   ]
  },
  {
   "cell_type": "code",
   "execution_count": 6,
   "metadata": {},
   "outputs": [],
   "source": [
    "# Convert the DataFrame into a dictionary for quick lookups\n",
    "keyword_genre_mapping = df.set_index('Keyword').to_dict(orient='index')\n",
    "\n",
    "movie_genre_percentages = {}\n",
    "\n",
    "for movie_name, synopsis in synopses.items():\n",
    "    genre_percentages = calculate_genre_percentages(synopsis, keyword_genre_mapping)\n",
    "    movie_genre_percentages[movie_name] = genre_percentages"
   ]
  },
  {
   "cell_type": "code",
   "execution_count": 7,
   "metadata": {},
   "outputs": [],
   "source": [
    "def save_csv_percentages(movie_genre_percentages, output_file):\n",
    "    data = []\n",
    "    for movie_name, genre_percentages in movie_genre_percentages.items():\n",
    "        # Sort genres by percentage in descending order\n",
    "        sorted_genres = sorted(genre_percentages, key=lambda x: x[1], reverse=True)\n",
    "        \n",
    "        # Prepare data for saving\n",
    "        data.append({\n",
    "            \"Movie\": movie_name,\n",
    "            \"Top Genre\": sorted_genres[0][0] if sorted_genres else None,  # Highest percentage genre\n",
    "            \"Top Percentage\": sorted_genres[0][1] if sorted_genres else 0,  # Highest percentage\n",
    "            \"All Genres\": \", \".join([f\"{genre}: {percentage:.2f}%\" for genre, percentage in sorted_genres])  # Full list\n",
    "        })\n",
    "    \n",
    "    # Convert to DataFrame and save\n",
    "    result_df = pd.DataFrame(data)\n",
    "    result_df.to_csv(output_file, index=False)\n",
    "    print(f\"Genre percentages saved to {output_file}\")\n",
    "    "
   ]
  },
  {
   "cell_type": "code",
   "execution_count": 8,
   "metadata": {},
   "outputs": [
    {
     "name": "stdout",
     "output_type": "stream",
     "text": [
      "<class 'dict'>\n",
      "Genre percentages saved to movie_genre_percentages_top_prueba.csv\n"
     ]
    }
   ],
   "source": [
    "# Run the function and save the results\n",
    "print(type(movie_genre_percentages))\n",
    "output_file = \"movie_genre_percentages_top_prueba.csv\"\n",
    "save_csv_percentages(movie_genre_percentages, output_file)"
   ]
  },
  {
   "cell_type": "markdown",
   "metadata": {},
   "source": [
    "BOTTOM MOVIES"
   ]
  },
  {
   "cell_type": "code",
   "execution_count": 11,
   "metadata": {},
   "outputs": [
    {
     "name": "stdout",
     "output_type": "stream",
     "text": [
      "Genre percentages saved to movie_genre_percentages_bottom_prueba.csv\n"
     ]
    }
   ],
   "source": [
    "dir_path = \"C:/Users/nerea/Documents/MasterDTU/SocialGraphs_fall24/Projects/socialGraphs_fall24/bottom_net_movies_info\"\n",
    "csv = \"C:/Users/nerea/Documents/MasterDTU/SocialGraphs_fall24/Projects/socialGraphs_fall24/FinalProject/csv/unified_dictionary_percent.csv\"\n",
    "df = pd.read_csv(csv)\n",
    "\n",
    "# Get a list of all files in the directory\n",
    "files = os.listdir(dir_path)\n",
    "\n",
    "# Extract synopses from each file\n",
    "synopses = {}\n",
    "for file in files:\n",
    "    file_path = os.path.join(dir_path, file)\n",
    "    if os.path.isfile(file_path):\n",
    "        synopsis = extract_synopsis(file_path)\n",
    "        # You can associate the synopsis with the movie name, here we use the file name as the movie name\n",
    "        movie_name = os.path.splitext(file)[0]\n",
    "        synopses[movie_name] = synopsis\n",
    "\n",
    "def clean_text(text):\n",
    "    text = text.lower()  # Convert to lowercase\n",
    "    text = re.sub(r'[^\\w\\s]', '', text)  # Remove punctuation\n",
    "    return text\n",
    "\n",
    "# Clean all synopses\n",
    "for movie, synopsis in synopses.items():\n",
    "    synopses[movie] = clean_text(synopsis)\n",
    "\n",
    "# Convert the DataFrame into a dictionary for quick lookups\n",
    "keyword_genre_mapping = df.set_index('Keyword').to_dict(orient='index')\n",
    "\n",
    "movie_genre_percentages = {}\n",
    "\n",
    "for movie_name, synopsis in synopses.items():\n",
    "    genre_percentages = calculate_genre_percentages(synopsis, keyword_genre_mapping)\n",
    "    movie_genre_percentages[movie_name] = genre_percentages\n",
    "\n",
    "output_file = \"movie_genre_percentages_bottom_prueba.csv\"\n",
    "save_csv_percentages(movie_genre_percentages, output_file)"
   ]
  }
 ],
 "metadata": {
  "kernelspec": {
   "display_name": "graphs_env",
   "language": "python",
   "name": "python3"
  },
  "language_info": {
   "codemirror_mode": {
    "name": "ipython",
    "version": 3
   },
   "file_extension": ".py",
   "mimetype": "text/x-python",
   "name": "python",
   "nbconvert_exporter": "python",
   "pygments_lexer": "ipython3",
   "version": "3.11.10"
  }
 },
 "nbformat": 4,
 "nbformat_minor": 2
}
